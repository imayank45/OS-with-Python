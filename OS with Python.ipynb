{
 "cells": [
  {
   "cell_type": "markdown",
   "id": "cde83931",
   "metadata": {},
   "source": [
    "## Creating and Removing Directories"
   ]
  },
  {
   "cell_type": "code",
   "execution_count": 2,
   "id": "ada759b5",
   "metadata": {},
   "outputs": [],
   "source": [
    "import os"
   ]
  },
  {
   "cell_type": "code",
   "execution_count": 2,
   "id": "fa84982a",
   "metadata": {},
   "outputs": [
    {
     "data": {
      "text/plain": [
       "'C:\\\\Users\\\\Mayank'"
      ]
     },
     "execution_count": 2,
     "metadata": {},
     "output_type": "execute_result"
    }
   ],
   "source": [
    "os.getcwd()"
   ]
  },
  {
   "cell_type": "code",
   "execution_count": 3,
   "id": "16ef00a3",
   "metadata": {},
   "outputs": [
    {
     "data": {
      "text/plain": [
       "'C:\\\\Users\\\\Mayank'"
      ]
     },
     "execution_count": 3,
     "metadata": {},
     "output_type": "execute_result"
    }
   ],
   "source": [
    "pwd"
   ]
  },
  {
   "cell_type": "code",
   "execution_count": 6,
   "id": "fc55c89e",
   "metadata": {},
   "outputs": [
    {
     "name": "stdout",
     "output_type": "stream",
     "text": [
      "C:\\Users\\Mayank\\OneDrive\n"
     ]
    }
   ],
   "source": [
    "cd C:\\Users\\Mayank\\OneDrive"
   ]
  },
  {
   "cell_type": "code",
   "execution_count": 7,
   "id": "13167447",
   "metadata": {},
   "outputs": [
    {
     "data": {
      "text/plain": [
       "'C:\\\\Users\\\\Mayank\\\\OneDrive'"
      ]
     },
     "execution_count": 7,
     "metadata": {},
     "output_type": "execute_result"
    }
   ],
   "source": [
    "os.getcwd()"
   ]
  },
  {
   "cell_type": "code",
   "execution_count": 8,
   "id": "ba084df4",
   "metadata": {},
   "outputs": [],
   "source": [
    "os.chdir('..')"
   ]
  },
  {
   "cell_type": "code",
   "execution_count": 9,
   "id": "36107cd6",
   "metadata": {},
   "outputs": [
    {
     "data": {
      "text/plain": [
       "'C:\\\\Users\\\\Mayank'"
      ]
     },
     "execution_count": 9,
     "metadata": {},
     "output_type": "execute_result"
    }
   ],
   "source": [
    "os.getcwd()"
   ]
  },
  {
   "cell_type": "code",
   "execution_count": 10,
   "id": "7c79c42b",
   "metadata": {},
   "outputs": [],
   "source": [
    "os.chdir('..')"
   ]
  },
  {
   "cell_type": "code",
   "execution_count": 11,
   "id": "82967da5",
   "metadata": {},
   "outputs": [],
   "source": [
    "os.chdir('..')"
   ]
  },
  {
   "cell_type": "code",
   "execution_count": 13,
   "id": "f8960eec",
   "metadata": {},
   "outputs": [
    {
     "data": {
      "text/plain": [
       "'C:\\\\'"
      ]
     },
     "execution_count": 13,
     "metadata": {},
     "output_type": "execute_result"
    }
   ],
   "source": [
    "os.getcwd()"
   ]
  },
  {
   "cell_type": "code",
   "execution_count": 14,
   "id": "d99064d4",
   "metadata": {},
   "outputs": [],
   "source": [
    "os.mkdir('Mayank')"
   ]
  },
  {
   "cell_type": "code",
   "execution_count": 3,
   "id": "95500874",
   "metadata": {},
   "outputs": [
    {
     "data": {
      "text/plain": [
       "'C:\\\\Users\\\\Mayank'"
      ]
     },
     "execution_count": 3,
     "metadata": {},
     "output_type": "execute_result"
    }
   ],
   "source": [
    "os.getcwd()"
   ]
  },
  {
   "cell_type": "code",
   "execution_count": 4,
   "id": "db27b375",
   "metadata": {},
   "outputs": [],
   "source": [
    "os.chdir('..')"
   ]
  },
  {
   "cell_type": "code",
   "execution_count": 5,
   "id": "189d768e",
   "metadata": {},
   "outputs": [],
   "source": [
    "os.chdir('..')"
   ]
  },
  {
   "cell_type": "code",
   "execution_count": 6,
   "id": "0a6b4673",
   "metadata": {},
   "outputs": [
    {
     "data": {
      "text/plain": [
       "'C:\\\\'"
      ]
     },
     "execution_count": 6,
     "metadata": {},
     "output_type": "execute_result"
    }
   ],
   "source": [
    "os.getcwd()"
   ]
  },
  {
   "cell_type": "code",
   "execution_count": 10,
   "id": "ba78da3a",
   "metadata": {},
   "outputs": [],
   "source": [
    "os.rmdir('Mayank')"
   ]
  },
  {
   "cell_type": "code",
   "execution_count": 11,
   "id": "4529f31e",
   "metadata": {},
   "outputs": [
    {
     "name": "stdout",
     "output_type": "stream",
     "text": [
      " Volume in drive C has no label.\n",
      " Volume Serial Number is 9447-5F7E\n",
      "\n",
      " Directory of C:\\\n",
      "\n",
      "08/28/2022  09:08 AM    <DIR>          MinGW\n",
      "01/15/2023  07:40 PM    <DIR>          MSI\n",
      "02/06/2023  08:09 AM    <DIR>          PerfLogs\n",
      "02/21/2023  11:50 PM    <DIR>          Program Files\n",
      "02/18/2023  02:57 PM    <DIR>          Program Files (x86)\n",
      "08/31/2022  01:34 PM    <DIR>          src\n",
      "02/05/2023  06:49 PM    <DIR>          Users\n",
      "02/18/2023  02:57 PM    <DIR>          Windows\n",
      "02/05/2023  06:53 PM    <DIR>          Windows.old\n",
      "               0 File(s)              0 bytes\n",
      "               9 Dir(s)  54,169,350,144 bytes free\n"
     ]
    }
   ],
   "source": [
    "ls\n"
   ]
  },
  {
   "cell_type": "code",
   "execution_count": 12,
   "id": "0199262d",
   "metadata": {},
   "outputs": [],
   "source": [
    "os.chdir('../')"
   ]
  },
  {
   "cell_type": "code",
   "execution_count": 13,
   "id": "2e4dd615",
   "metadata": {},
   "outputs": [
    {
     "name": "stdout",
     "output_type": "stream",
     "text": [
      " Volume in drive C has no label.\n",
      " Volume Serial Number is 9447-5F7E\n",
      "\n",
      " Directory of C:\\\n",
      "\n",
      "08/28/2022  09:08 AM    <DIR>          MinGW\n",
      "01/15/2023  07:40 PM    <DIR>          MSI\n",
      "02/06/2023  08:09 AM    <DIR>          PerfLogs\n",
      "02/21/2023  11:50 PM    <DIR>          Program Files\n",
      "02/18/2023  02:57 PM    <DIR>          Program Files (x86)\n",
      "08/31/2022  01:34 PM    <DIR>          src\n",
      "02/05/2023  06:49 PM    <DIR>          Users\n",
      "02/18/2023  02:57 PM    <DIR>          Windows\n",
      "02/05/2023  06:53 PM    <DIR>          Windows.old\n",
      "               0 File(s)              0 bytes\n",
      "               9 Dir(s)  54,168,346,624 bytes free\n"
     ]
    }
   ],
   "source": [
    "ls"
   ]
  },
  {
   "cell_type": "code",
   "execution_count": 14,
   "id": "287ed07f",
   "metadata": {},
   "outputs": [],
   "source": [
    "os.chdir('Users')"
   ]
  },
  {
   "cell_type": "code",
   "execution_count": 15,
   "id": "42ec60af",
   "metadata": {},
   "outputs": [
    {
     "name": "stdout",
     "output_type": "stream",
     "text": [
      " Volume in drive C has no label.\n",
      " Volume Serial Number is 9447-5F7E\n",
      "\n",
      " Directory of C:\\Users\n",
      "\n",
      "02/05/2023  06:49 PM    <DIR>          .\n",
      "02/22/2023  02:08 PM    <DIR>          Mayank\n",
      "02/05/2023  06:48 PM    <DIR>          Public\n",
      "               0 File(s)              0 bytes\n",
      "               3 Dir(s)  54,167,986,176 bytes free\n"
     ]
    }
   ],
   "source": [
    "ls\n"
   ]
  },
  {
   "cell_type": "code",
   "execution_count": 17,
   "id": "b424c863",
   "metadata": {},
   "outputs": [],
   "source": [
    "os.chdir('Mayank')"
   ]
  },
  {
   "cell_type": "code",
   "execution_count": 18,
   "id": "108ba274",
   "metadata": {},
   "outputs": [
    {
     "name": "stdout",
     "output_type": "stream",
     "text": [
      " Volume in drive C has no label.\n",
      " Volume Serial Number is 9447-5F7E\n",
      "\n",
      " Directory of C:\\Users\\Mayank\n",
      "\n",
      "02/22/2023  02:08 PM    <DIR>          .\n",
      "02/05/2023  06:49 PM    <DIR>          ..\n",
      "02/03/2023  05:53 PM    <DIR>          .conda\n",
      "02/02/2023  05:47 PM                25 .condarc\n",
      "02/02/2023  05:46 PM    <DIR>          .continuum\n",
      "08/31/2022  03:14 PM                16 .emulator_console_auth_token\n",
      "09/22/2022  07:59 PM               185 .gitconfig\n",
      "09/01/2022  11:06 AM    <DIR>          .gradle\n",
      "02/21/2023  09:44 PM    <DIR>          .ipynb_checkpoints\n",
      "02/02/2023  05:47 PM    <DIR>          .ipython\n",
      "02/03/2023  09:52 PM    <DIR>          .jupyter\n",
      "01/17/2023  09:37 PM    <DIR>          .matplotlib\n",
      "02/07/2023  03:52 PM    <DIR>          .spyder-py3\n",
      "08/12/2022  04:40 PM    <DIR>          .vscode\n",
      "08/26/2022  12:11 AM             6,879 -1.14-windows.xml\n",
      "02/11/2023  07:26 PM         3,328,943 11.ipynb\n",
      "08/05/2022  06:54 AM    <DIR>          3D Objects\n",
      "02/17/2023  02:22 AM    <DIR>          anaconda3\n",
      "02/09/2023  07:32 PM             2,932 Break and Continue.ipynb\n",
      "02/05/2023  06:53 PM    <DIR>          Contacts\n",
      "02/13/2023  08:31 PM            11,907 Data_Structure.ipynb\n",
      "02/09/2023  06:50 PM    <DIR>          Documents\n",
      "02/21/2023  02:05 PM    <DIR>          Downloads\n",
      "02/05/2023  06:53 PM    <DIR>          Favorites\n",
      "02/19/2023  10:16 PM    <DIR>          Files\n",
      "02/09/2023  04:41 PM             2,499 For Loop.ipynb\n",
      "02/09/2023  07:05 PM             3,089 For loops.ipynb\n",
      "02/10/2023  11:56 AM             2,633 Functions.ipynb\n",
      "08/29/2022  03:17 AM    <DIR>          IBA_IOAPDATA\n",
      "02/02/2023  05:48 PM    <DIR>          Jedi\n",
      "02/20/2023  06:00 PM    <DIR>          JSON\n",
      "02/05/2023  06:53 PM    <DIR>          Links\n",
      "02/05/2023  06:53 PM    <DIR>          Music\n",
      "02/15/2023  04:00 PM    <DIR>          OneDrive\n",
      "02/16/2023  03:35 PM            14,141 OOP's.ipynb\n",
      "02/08/2023  06:21 PM             7,594 operators.ipynb\n",
      "02/22/2023  02:08 PM             6,903 OS with Python.ipynb\n",
      "02/09/2023  04:59 PM             2,656 Range.ipynb\n",
      "02/08/2023  04:19 PM               589 s.ipynb\n",
      "02/05/2023  06:53 PM    <DIR>          Saved Games\n",
      "02/05/2023  06:55 PM    <DIR>          Searches\n",
      "02/12/2023  05:13 PM            10,125 Strings.ipynb\n",
      "09/24/2022  04:30 PM    <DIR>          StudioProjects\n",
      "02/14/2023  04:03 PM            33,129 Untitled.ipynb\n",
      "02/03/2023  09:54 PM                 0 untitled.txt\n",
      "02/07/2023  06:17 PM            10,564 Untitled1.ipynb\n",
      "02/08/2023  04:18 PM                72 Untitled2.ipynb\n",
      "02/09/2023  09:12 PM               589 Untitled3.ipynb\n",
      "02/10/2023  11:56 AM                72 Untitled4.ipynb\n",
      "02/10/2023  12:07 PM             3,531 Untitled5.ipynb\n",
      "02/17/2023  02:14 AM             1,285 Untitled6.ipynb\n",
      "02/05/2023  06:53 PM    <DIR>          Videos\n",
      "02/09/2023  04:49 PM             1,739 While Loop.ipynb\n",
      "              25 File(s)      3,452,097 bytes\n",
      "              28 Dir(s)  54,167,789,568 bytes free\n"
     ]
    }
   ],
   "source": [
    "ls"
   ]
  },
  {
   "cell_type": "code",
   "execution_count": 19,
   "id": "00ad6b9a",
   "metadata": {},
   "outputs": [],
   "source": [
    "os.chdir('OneDrive')"
   ]
  },
  {
   "cell_type": "code",
   "execution_count": 22,
   "id": "eda7630a",
   "metadata": {},
   "outputs": [],
   "source": [
    "os.chdir('..')"
   ]
  },
  {
   "cell_type": "markdown",
   "id": "a4f994f2",
   "metadata": {},
   "source": [
    "## Bulk Directories Creation"
   ]
  },
  {
   "cell_type": "code",
   "execution_count": 23,
   "id": "8eb011ff",
   "metadata": {
    "scrolled": true
   },
   "outputs": [
    {
     "name": "stdout",
     "output_type": "stream",
     "text": [
      " Volume in drive C has no label.\n",
      " Volume Serial Number is 9447-5F7E\n",
      "\n",
      " Directory of C:\\Users\\Mayank\n",
      "\n",
      "02/22/2023  02:08 PM    <DIR>          .\n",
      "02/05/2023  06:49 PM    <DIR>          ..\n",
      "02/03/2023  05:53 PM    <DIR>          .conda\n",
      "02/02/2023  05:47 PM                25 .condarc\n",
      "02/02/2023  05:46 PM    <DIR>          .continuum\n",
      "08/31/2022  03:14 PM                16 .emulator_console_auth_token\n",
      "09/22/2022  07:59 PM               185 .gitconfig\n",
      "09/01/2022  11:06 AM    <DIR>          .gradle\n",
      "02/21/2023  09:44 PM    <DIR>          .ipynb_checkpoints\n",
      "02/02/2023  05:47 PM    <DIR>          .ipython\n",
      "02/03/2023  09:52 PM    <DIR>          .jupyter\n",
      "01/17/2023  09:37 PM    <DIR>          .matplotlib\n",
      "02/07/2023  03:52 PM    <DIR>          .spyder-py3\n",
      "08/12/2022  04:40 PM    <DIR>          .vscode\n",
      "08/26/2022  12:11 AM             6,879 -1.14-windows.xml\n",
      "02/11/2023  07:26 PM         3,328,943 11.ipynb\n",
      "08/05/2022  06:54 AM    <DIR>          3D Objects\n",
      "02/17/2023  02:22 AM    <DIR>          anaconda3\n",
      "02/09/2023  07:32 PM             2,932 Break and Continue.ipynb\n",
      "02/05/2023  06:53 PM    <DIR>          Contacts\n",
      "02/13/2023  08:31 PM            11,907 Data_Structure.ipynb\n",
      "02/09/2023  06:50 PM    <DIR>          Documents\n",
      "02/21/2023  02:05 PM    <DIR>          Downloads\n",
      "02/05/2023  06:53 PM    <DIR>          Favorites\n",
      "02/19/2023  10:16 PM    <DIR>          Files\n",
      "02/09/2023  04:41 PM             2,499 For Loop.ipynb\n",
      "02/09/2023  07:05 PM             3,089 For loops.ipynb\n",
      "02/10/2023  11:56 AM             2,633 Functions.ipynb\n",
      "08/29/2022  03:17 AM    <DIR>          IBA_IOAPDATA\n",
      "02/02/2023  05:48 PM    <DIR>          Jedi\n",
      "02/20/2023  06:00 PM    <DIR>          JSON\n",
      "02/05/2023  06:53 PM    <DIR>          Links\n",
      "02/05/2023  06:53 PM    <DIR>          Music\n",
      "02/15/2023  04:00 PM    <DIR>          OneDrive\n",
      "02/16/2023  03:35 PM            14,141 OOP's.ipynb\n",
      "02/08/2023  06:21 PM             7,594 operators.ipynb\n",
      "02/22/2023  02:08 PM             6,903 OS with Python.ipynb\n",
      "02/09/2023  04:59 PM             2,656 Range.ipynb\n",
      "02/08/2023  04:19 PM               589 s.ipynb\n",
      "02/05/2023  06:53 PM    <DIR>          Saved Games\n",
      "02/05/2023  06:55 PM    <DIR>          Searches\n",
      "02/12/2023  05:13 PM            10,125 Strings.ipynb\n",
      "09/24/2022  04:30 PM    <DIR>          StudioProjects\n",
      "02/14/2023  04:03 PM            33,129 Untitled.ipynb\n",
      "02/03/2023  09:54 PM                 0 untitled.txt\n",
      "02/07/2023  06:17 PM            10,564 Untitled1.ipynb\n",
      "02/08/2023  04:18 PM                72 Untitled2.ipynb\n",
      "02/09/2023  09:12 PM               589 Untitled3.ipynb\n",
      "02/10/2023  11:56 AM                72 Untitled4.ipynb\n",
      "02/10/2023  12:07 PM             3,531 Untitled5.ipynb\n",
      "02/17/2023  02:14 AM             1,285 Untitled6.ipynb\n",
      "02/05/2023  06:53 PM    <DIR>          Videos\n",
      "02/09/2023  04:49 PM             1,739 While Loop.ipynb\n",
      "              25 File(s)      3,452,097 bytes\n",
      "              28 Dir(s)  54,166,605,824 bytes free\n"
     ]
    }
   ],
   "source": [
    "ls\n"
   ]
  },
  {
   "cell_type": "code",
   "execution_count": 24,
   "id": "31eceedf",
   "metadata": {},
   "outputs": [],
   "source": [
    "!mkdir Test"
   ]
  },
  {
   "cell_type": "code",
   "execution_count": 26,
   "id": "a397a0ad",
   "metadata": {},
   "outputs": [],
   "source": [
    "for i in range(1000):\n",
    "    name = 'Test/Test' + str(i)\n",
    "    os.mkdir(name)"
   ]
  },
  {
   "cell_type": "code",
   "execution_count": 27,
   "id": "f1edd543",
   "metadata": {},
   "outputs": [],
   "source": [
    "!mkdir Mayank"
   ]
  },
  {
   "cell_type": "code",
   "execution_count": 33,
   "id": "9d56e19b",
   "metadata": {},
   "outputs": [],
   "source": [
    "n = 'GFG'\n",
    "\n",
    "os.mkdir(n)\n",
    "\n",
    "for i in range(1000):\n",
    "    \n",
    "    name = n +'/'+ n + \" \" + str(i+1)\n",
    "    os.mkdir(name)"
   ]
  },
  {
   "cell_type": "markdown",
   "id": "28b7c3d7",
   "metadata": {},
   "source": [
    "## Hiererical Bulk Directories Creation"
   ]
  },
  {
   "cell_type": "code",
   "execution_count": 37,
   "id": "df512d25",
   "metadata": {},
   "outputs": [],
   "source": [
    "n = 'MMk'\n",
    "os.mkdir(n)\n",
    "p=3\n",
    "q=5\n",
    "for i in range(p):\n",
    "    name = n + '/' + n + ' ' + str(i+1)\n",
    "    os.mkdir(name)\n",
    "    for j in range(q):\n",
    "        name = n + '/' + n + ' ' + str(i+1) + '/' + n + ' ' + str(j+1)\n",
    "        os.mkdir(name)"
   ]
  },
  {
   "cell_type": "code",
   "execution_count": null,
   "id": "6680c007",
   "metadata": {},
   "outputs": [],
   "source": []
  }
 ],
 "metadata": {
  "kernelspec": {
   "display_name": "Python 3 (ipykernel)",
   "language": "python",
   "name": "python3"
  },
  "language_info": {
   "codemirror_mode": {
    "name": "ipython",
    "version": 3
   },
   "file_extension": ".py",
   "mimetype": "text/x-python",
   "name": "python",
   "nbconvert_exporter": "python",
   "pygments_lexer": "ipython3",
   "version": "3.9.13"
  }
 },
 "nbformat": 4,
 "nbformat_minor": 5
}
